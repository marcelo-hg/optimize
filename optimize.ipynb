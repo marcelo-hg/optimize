{
 "cells": [
  {
   "cell_type": "code",
   "execution_count": 1,
   "source": [
    "%load_ext lab_black"
   ],
   "outputs": [],
   "metadata": {}
  },
  {
   "cell_type": "code",
   "execution_count": 2,
   "source": [
    "import pandas as pd\n",
    "import numpy as np"
   ],
   "outputs": [],
   "metadata": {}
  },
  {
   "cell_type": "code",
   "execution_count": 3,
   "source": [
    "demand = pd.read_excel(\"opt_example.xlsx\", \"demand\")\n",
    "bundles = pd.read_excel(\"opt_example.xlsx\", \"bundles\")"
   ],
   "outputs": [],
   "metadata": {}
  },
  {
   "cell_type": "code",
   "execution_count": 4,
   "source": [
    "from pulp import LpVariable, LpInteger, value\n",
    "from pulp import LpProblem, LpMinimize, LpStatus\n",
    "from pulp import PULP_CBC_CMD\n",
    "\n",
    "all_bundle_variables = []\n",
    "all_missing_variables = []\n",
    "types = [\"b1\", \"b2\", \"b3\", \"b4\", \"b5\"]\n",
    "missing_weights = np.array([4] * 5)\n",
    "for product, df in demand.groupby(\"product\"):\n",
    "    problem = LpProblem(\"allocation\", LpMinimize)\n",
    "    total_demand = df[\"demand\"].sum()\n",
    "    bundle_variables = {}\n",
    "    missing_variables = {}\n",
    "    for type_ in types:\n",
    "        bundle_variables[type_] = LpVariable(name=type_, lowBound=0, cat=LpInteger)\n",
    "        missing_variables[type_] = LpVariable(\n",
    "            name=f\"missing_{type_}\", lowBound=0, cat=LpInteger\n",
    "        )\n",
    "    bundle_weight_matrix = df[types].fillna(0).to_numpy()\n",
    "    bundle_weights = bundle_weight_matrix.sum(axis=0)\n",
    "    bundle_vector = np.array(list(bundle_variables.values()))\n",
    "    n_types = df.shape[0]\n",
    "    missing_weight_matrix = np.tile(missing_weights, (n_types, 1))\n",
    "    missing_vector = np.array(list(missing_variables.values()))\n",
    "\n",
    "    bundle_exprs = bundle_vector * bundle_weight_matrix\n",
    "\n",
    "    for qty, bundle in zip(df[\"demand\"], bundle_exprs):\n",
    "        problem += sum(bundle) + sum(missing_vector) >= qty\n",
    "    total_bundles_expr = bundle_weights * bundle_vector\n",
    "    total_missing_expr = missing_weights * missing_vector\n",
    "    problem += sum(total_bundles_expr) <= 2 * total_demand\n",
    "\n",
    "    OBJECTIVE = sum(total_bundles_expr) + sum(total_missing_expr)\n",
    "    problem += OBJECTIVE\n",
    "    status = problem.solve(PULP_CBC_CMD(msg=False))\n",
    "    bundle_variables[\"product\"] = product\n",
    "    missing_variables[\"product\"] = product\n",
    "    all_bundle_variables.append(bundle_variables)\n",
    "    all_missing_variables.append(missing_variables)\n",
    "print(LpStatus[problem.status])\n",
    "allocation = pd.DataFrame(all_bundle_variables)\n",
    "missing = pd.DataFrame(all_missing_variables)\n",
    "\n",
    "allocation[types] = allocation[types].applymap(value)\n",
    "allocation[\"total\"] = allocation[types].sum(axis=1)\n",
    "\n",
    "missing[types] = missing[types].applymap(value)\n",
    "missing[\"total\"] = missing[types].sum(axis=1)"
   ],
   "outputs": [
    {
     "output_type": "stream",
     "name": "stdout",
     "text": [
      "Optimal\n"
     ]
    }
   ],
   "metadata": {}
  },
  {
   "cell_type": "code",
   "execution_count": 5,
   "source": [
    "print(problem)"
   ],
   "outputs": [
    {
     "output_type": "stream",
     "name": "stdout",
     "text": [
      "allocation:\n",
      "MINIMIZE\n",
      "6.0*b1 + 6.0*b2 + 6.0*b3 + 6.0*b4 + 6.0*b5 + 4*missing_b1 + 4*missing_b2 + 4*missing_b3 + 4*missing_b4 + 4*missing_b5 + 0.0\n",
      "SUBJECT TO\n",
      "_C1: b1 + 3 b3 + 3 b4 + missing_b1 + missing_b2 + missing_b3 + missing_b4\n",
      " + missing_b5 >= 78\n",
      "\n",
      "_C2: 2 b1 + 3 b2 + 4 b5 + missing_b1 + missing_b2 + missing_b3 + missing_b4\n",
      " + missing_b5 >= 96\n",
      "\n",
      "_C3: b1 + 3 b3 + 2 b5 + missing_b1 + missing_b2 + missing_b3 + missing_b4\n",
      " + missing_b5 >= 63\n",
      "\n",
      "_C4: 2 b1 + 3 b2 + 3 b4 + missing_b1 + missing_b2 + missing_b3 + missing_b4\n",
      " + missing_b5 >= 35\n",
      "\n",
      "_C5: 6 b1 + 6 b2 + 6 b3 + 6 b4 + 6 b5 <= 544\n",
      "\n",
      "VARIABLES\n",
      "0 <= b1 Integer\n",
      "0 <= b2 Integer\n",
      "0 <= b3 Integer\n",
      "0 <= b4 Integer\n",
      "0 <= b5 Integer\n",
      "0 <= missing_b1 Integer\n",
      "0 <= missing_b2 Integer\n",
      "0 <= missing_b3 Integer\n",
      "0 <= missing_b4 Integer\n",
      "0 <= missing_b5 Integer\n",
      "\n"
     ]
    }
   ],
   "metadata": {}
  },
  {
   "cell_type": "code",
   "execution_count": 6,
   "source": [
    "allocation"
   ],
   "outputs": [
    {
     "output_type": "execute_result",
     "data": {
      "text/html": [
       "<div>\n",
       "<style scoped>\n",
       "    .dataframe tbody tr th:only-of-type {\n",
       "        vertical-align: middle;\n",
       "    }\n",
       "\n",
       "    .dataframe tbody tr th {\n",
       "        vertical-align: top;\n",
       "    }\n",
       "\n",
       "    .dataframe thead th {\n",
       "        text-align: right;\n",
       "    }\n",
       "</style>\n",
       "<table border=\"1\" class=\"dataframe\">\n",
       "  <thead>\n",
       "    <tr style=\"text-align: right;\">\n",
       "      <th></th>\n",
       "      <th>b1</th>\n",
       "      <th>b2</th>\n",
       "      <th>b3</th>\n",
       "      <th>b4</th>\n",
       "      <th>b5</th>\n",
       "      <th>product</th>\n",
       "      <th>total</th>\n",
       "    </tr>\n",
       "  </thead>\n",
       "  <tbody>\n",
       "    <tr>\n",
       "      <th>0</th>\n",
       "      <td>2.0</td>\n",
       "      <td>29.0</td>\n",
       "      <td>9.0</td>\n",
       "      <td>0.0</td>\n",
       "      <td>0.0</td>\n",
       "      <td>casaco</td>\n",
       "      <td>40.0</td>\n",
       "    </tr>\n",
       "    <tr>\n",
       "      <th>1</th>\n",
       "      <td>2.0</td>\n",
       "      <td>18.0</td>\n",
       "      <td>13.0</td>\n",
       "      <td>0.0</td>\n",
       "      <td>0.0</td>\n",
       "      <td>chinelo</td>\n",
       "      <td>33.0</td>\n",
       "    </tr>\n",
       "    <tr>\n",
       "      <th>2</th>\n",
       "      <td>0.0</td>\n",
       "      <td>23.0</td>\n",
       "      <td>8.0</td>\n",
       "      <td>0.0</td>\n",
       "      <td>0.0</td>\n",
       "      <td>guarda-chuva</td>\n",
       "      <td>31.0</td>\n",
       "    </tr>\n",
       "    <tr>\n",
       "      <th>3</th>\n",
       "      <td>0.0</td>\n",
       "      <td>25.0</td>\n",
       "      <td>21.0</td>\n",
       "      <td>0.0</td>\n",
       "      <td>3.0</td>\n",
       "      <td>mp3</td>\n",
       "      <td>49.0</td>\n",
       "    </tr>\n",
       "    <tr>\n",
       "      <th>4</th>\n",
       "      <td>0.0</td>\n",
       "      <td>0.0</td>\n",
       "      <td>14.0</td>\n",
       "      <td>12.0</td>\n",
       "      <td>24.0</td>\n",
       "      <td>toalha</td>\n",
       "      <td>50.0</td>\n",
       "    </tr>\n",
       "  </tbody>\n",
       "</table>\n",
       "</div>"
      ],
      "text/plain": [
       "    b1    b2    b3    b4    b5       product  total\n",
       "0  2.0  29.0   9.0   0.0   0.0        casaco   40.0\n",
       "1  2.0  18.0  13.0   0.0   0.0       chinelo   33.0\n",
       "2  0.0  23.0   8.0   0.0   0.0  guarda-chuva   31.0\n",
       "3  0.0  25.0  21.0   0.0   3.0           mp3   49.0\n",
       "4  0.0   0.0  14.0  12.0  24.0        toalha   50.0"
      ]
     },
     "metadata": {},
     "execution_count": 6
    }
   ],
   "metadata": {}
  },
  {
   "cell_type": "code",
   "execution_count": 7,
   "source": [
    "missing"
   ],
   "outputs": [
    {
     "output_type": "execute_result",
     "data": {
      "text/html": [
       "<div>\n",
       "<style scoped>\n",
       "    .dataframe tbody tr th:only-of-type {\n",
       "        vertical-align: middle;\n",
       "    }\n",
       "\n",
       "    .dataframe tbody tr th {\n",
       "        vertical-align: top;\n",
       "    }\n",
       "\n",
       "    .dataframe thead th {\n",
       "        text-align: right;\n",
       "    }\n",
       "</style>\n",
       "<table border=\"1\" class=\"dataframe\">\n",
       "  <thead>\n",
       "    <tr style=\"text-align: right;\">\n",
       "      <th></th>\n",
       "      <th>b1</th>\n",
       "      <th>b2</th>\n",
       "      <th>b3</th>\n",
       "      <th>b4</th>\n",
       "      <th>b5</th>\n",
       "      <th>product</th>\n",
       "      <th>total</th>\n",
       "    </tr>\n",
       "  </thead>\n",
       "  <tbody>\n",
       "    <tr>\n",
       "      <th>0</th>\n",
       "      <td>1.0</td>\n",
       "      <td>0.0</td>\n",
       "      <td>0.0</td>\n",
       "      <td>0.0</td>\n",
       "      <td>0.0</td>\n",
       "      <td>casaco</td>\n",
       "      <td>1.0</td>\n",
       "    </tr>\n",
       "    <tr>\n",
       "      <th>1</th>\n",
       "      <td>1.0</td>\n",
       "      <td>0.0</td>\n",
       "      <td>0.0</td>\n",
       "      <td>0.0</td>\n",
       "      <td>0.0</td>\n",
       "      <td>chinelo</td>\n",
       "      <td>1.0</td>\n",
       "    </tr>\n",
       "    <tr>\n",
       "      <th>2</th>\n",
       "      <td>1.0</td>\n",
       "      <td>0.0</td>\n",
       "      <td>0.0</td>\n",
       "      <td>0.0</td>\n",
       "      <td>0.0</td>\n",
       "      <td>guarda-chuva</td>\n",
       "      <td>1.0</td>\n",
       "    </tr>\n",
       "    <tr>\n",
       "      <th>3</th>\n",
       "      <td>2.0</td>\n",
       "      <td>0.0</td>\n",
       "      <td>0.0</td>\n",
       "      <td>0.0</td>\n",
       "      <td>0.0</td>\n",
       "      <td>mp3</td>\n",
       "      <td>2.0</td>\n",
       "    </tr>\n",
       "    <tr>\n",
       "      <th>4</th>\n",
       "      <td>0.0</td>\n",
       "      <td>0.0</td>\n",
       "      <td>0.0</td>\n",
       "      <td>0.0</td>\n",
       "      <td>0.0</td>\n",
       "      <td>toalha</td>\n",
       "      <td>0.0</td>\n",
       "    </tr>\n",
       "  </tbody>\n",
       "</table>\n",
       "</div>"
      ],
      "text/plain": [
       "    b1   b2   b3   b4   b5       product  total\n",
       "0  1.0  0.0  0.0  0.0  0.0        casaco    1.0\n",
       "1  1.0  0.0  0.0  0.0  0.0       chinelo    1.0\n",
       "2  1.0  0.0  0.0  0.0  0.0  guarda-chuva    1.0\n",
       "3  2.0  0.0  0.0  0.0  0.0           mp3    2.0\n",
       "4  0.0  0.0  0.0  0.0  0.0        toalha    0.0"
      ]
     },
     "metadata": {},
     "execution_count": 7
    }
   ],
   "metadata": {}
  },
  {
   "cell_type": "markdown",
   "source": [
    "### criar uma tabela com a comparação da demanda versus alocado"
   ],
   "metadata": {}
  },
  {
   "cell_type": "code",
   "execution_count": 8,
   "source": [
    "# exemplo\n",
    "pd.DataFrame(\n",
    "    [\n",
    "        [\"casaco\", \"type A\", 17, \"<valor>\"],\n",
    "        [\"casaco\", \"type C\", 32, \"<valor>\"],\n",
    "        [\"guarda-chuva\", \"type A\", 23, \"<valor>\"],\n",
    "    ],\n",
    "    columns=[\"product\", \"type\", \"demand\", \"allocated\"],\n",
    ")"
   ],
   "outputs": [
    {
     "output_type": "execute_result",
     "data": {
      "text/html": [
       "<div>\n",
       "<style scoped>\n",
       "    .dataframe tbody tr th:only-of-type {\n",
       "        vertical-align: middle;\n",
       "    }\n",
       "\n",
       "    .dataframe tbody tr th {\n",
       "        vertical-align: top;\n",
       "    }\n",
       "\n",
       "    .dataframe thead th {\n",
       "        text-align: right;\n",
       "    }\n",
       "</style>\n",
       "<table border=\"1\" class=\"dataframe\">\n",
       "  <thead>\n",
       "    <tr style=\"text-align: right;\">\n",
       "      <th></th>\n",
       "      <th>product</th>\n",
       "      <th>type</th>\n",
       "      <th>demand</th>\n",
       "      <th>allocated</th>\n",
       "    </tr>\n",
       "  </thead>\n",
       "  <tbody>\n",
       "    <tr>\n",
       "      <th>0</th>\n",
       "      <td>casaco</td>\n",
       "      <td>type A</td>\n",
       "      <td>17</td>\n",
       "      <td>&lt;valor&gt;</td>\n",
       "    </tr>\n",
       "    <tr>\n",
       "      <th>1</th>\n",
       "      <td>casaco</td>\n",
       "      <td>type C</td>\n",
       "      <td>32</td>\n",
       "      <td>&lt;valor&gt;</td>\n",
       "    </tr>\n",
       "    <tr>\n",
       "      <th>2</th>\n",
       "      <td>guarda-chuva</td>\n",
       "      <td>type A</td>\n",
       "      <td>23</td>\n",
       "      <td>&lt;valor&gt;</td>\n",
       "    </tr>\n",
       "  </tbody>\n",
       "</table>\n",
       "</div>"
      ],
      "text/plain": [
       "        product    type  demand allocated\n",
       "0        casaco  type A      17   <valor>\n",
       "1        casaco  type C      32   <valor>\n",
       "2  guarda-chuva  type A      23   <valor>"
      ]
     },
     "metadata": {},
     "execution_count": 8
    }
   ],
   "metadata": {}
  },
  {
   "cell_type": "code",
   "execution_count": null,
   "source": [],
   "outputs": [],
   "metadata": {}
  }
 ],
 "metadata": {
  "kernelspec": {
   "name": "python3",
   "display_name": "Python 3.8.10 64-bit ('.t7d': venv)"
  },
  "language_info": {
   "codemirror_mode": {
    "name": "ipython",
    "version": 3
   },
   "file_extension": ".py",
   "mimetype": "text/x-python",
   "name": "python",
   "nbconvert_exporter": "python",
   "pygments_lexer": "ipython3",
   "version": "3.8.10"
  },
  "interpreter": {
   "hash": "61eaf1ae39ed24a0c9dca112e6d4bc25b8e18023efa8e50872652315d4dd05a0"
  }
 },
 "nbformat": 4,
 "nbformat_minor": 5
}